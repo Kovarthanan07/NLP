{
 "cells": [
  {
   "cell_type": "markdown",
   "id": "0bdaf905",
   "metadata": {},
   "source": [
    "Genre prediction using movie reviews\n",
    "-------------------------------"
   ]
  },
  {
   "cell_type": "markdown",
   "id": "de2ae33f",
   "metadata": {},
   "source": [
    "----------------\n",
    "Importing needed libraries."
   ]
  },
  {
   "cell_type": "code",
   "execution_count": 1,
   "id": "144a0244",
   "metadata": {},
   "outputs": [],
   "source": [
    "import pandas as pd\n",
    "import numpy as np\n",
    "import json\n",
    "import nltk\n",
    "import re\n",
    "import csv\n",
    "import matplotlib.pyplot as plt \n",
    "import seaborn as sns\n",
    "from tqdm import tqdm\n",
    "from sklearn.feature_extraction.text import TfidfVectorizer\n",
    "from sklearn.model_selection import train_test_split\n",
    "from collections import Counter\n",
    "import random\n",
    "%matplotlib inline\n"
   ]
  },
  {
   "cell_type": "code",
   "execution_count": 2,
   "id": "cab6dcc7",
   "metadata": {},
   "outputs": [
    {
     "data": {
      "text/html": [
       "<div>\n",
       "<style scoped>\n",
       "    .dataframe tbody tr th:only-of-type {\n",
       "        vertical-align: middle;\n",
       "    }\n",
       "\n",
       "    .dataframe tbody tr th {\n",
       "        vertical-align: top;\n",
       "    }\n",
       "\n",
       "    .dataframe thead th {\n",
       "        text-align: right;\n",
       "    }\n",
       "</style>\n",
       "<table border=\"1\" class=\"dataframe\">\n",
       "  <thead>\n",
       "    <tr style=\"text-align: right;\">\n",
       "      <th></th>\n",
       "      <th>Review</th>\n",
       "      <th>AspectCategory</th>\n",
       "      <th>SentimentPolarity</th>\n",
       "    </tr>\n",
       "  </thead>\n",
       "  <tbody>\n",
       "    <tr>\n",
       "      <th>0</th>\n",
       "      <td>Confidently directed, dark, brooding, and pack...</td>\n",
       "      <td>Action</td>\n",
       "      <td>Positive</td>\n",
       "    </tr>\n",
       "    <tr>\n",
       "      <th>1</th>\n",
       "      <td>Nolans have given the character this great man...</td>\n",
       "      <td>Action</td>\n",
       "      <td>Positive</td>\n",
       "    </tr>\n",
       "    <tr>\n",
       "      <th>2</th>\n",
       "      <td>there is action, explosions and stunt work but...</td>\n",
       "      <td>Action</td>\n",
       "      <td>Positive</td>\n",
       "    </tr>\n",
       "    <tr>\n",
       "      <th>3</th>\n",
       "      <td>The acting,story,atmosphere,and actions scenes...</td>\n",
       "      <td>Action</td>\n",
       "      <td>Positive</td>\n",
       "    </tr>\n",
       "    <tr>\n",
       "      <th>4</th>\n",
       "      <td>I recommend it to anyone who likes action movi...</td>\n",
       "      <td>Action</td>\n",
       "      <td>Positive</td>\n",
       "    </tr>\n",
       "  </tbody>\n",
       "</table>\n",
       "</div>"
      ],
      "text/plain": [
       "                                              Review AspectCategory  \\\n",
       "0  Confidently directed, dark, brooding, and pack...         Action   \n",
       "1  Nolans have given the character this great man...         Action   \n",
       "2  there is action, explosions and stunt work but...         Action   \n",
       "3  The acting,story,atmosphere,and actions scenes...         Action   \n",
       "4  I recommend it to anyone who likes action movi...         Action   \n",
       "\n",
       "  SentimentPolarity  \n",
       "0          Positive  \n",
       "1          Positive  \n",
       "2          Positive  \n",
       "3          Positive  \n",
       "4          Positive  "
      ]
     },
     "execution_count": 2,
     "metadata": {},
     "output_type": "execute_result"
    }
   ],
   "source": [
    "df = pd.read_csv(\"genres.csv\",encoding='cp1252')\n",
    "df.head()"
   ]
  },
  {
   "cell_type": "code",
   "execution_count": 3,
   "id": "b34cf449",
   "metadata": {},
   "outputs": [],
   "source": [
    "df = df.sample(frac=1).reset_index(drop=True)"
   ]
  },
  {
   "cell_type": "code",
   "execution_count": 4,
   "id": "e33fb9b2",
   "metadata": {},
   "outputs": [
    {
     "data": {
      "text/html": [
       "<div>\n",
       "<style scoped>\n",
       "    .dataframe tbody tr th:only-of-type {\n",
       "        vertical-align: middle;\n",
       "    }\n",
       "\n",
       "    .dataframe tbody tr th {\n",
       "        vertical-align: top;\n",
       "    }\n",
       "\n",
       "    .dataframe thead th {\n",
       "        text-align: right;\n",
       "    }\n",
       "</style>\n",
       "<table border=\"1\" class=\"dataframe\">\n",
       "  <thead>\n",
       "    <tr style=\"text-align: right;\">\n",
       "      <th></th>\n",
       "      <th>Review</th>\n",
       "      <th>AspectCategory</th>\n",
       "      <th>SentimentPolarity</th>\n",
       "    </tr>\n",
       "  </thead>\n",
       "  <tbody>\n",
       "    <tr>\n",
       "      <th>0</th>\n",
       "      <td>it is extremely entertaining and hilarious bey...</td>\n",
       "      <td>Comedy</td>\n",
       "      <td>Positive</td>\n",
       "    </tr>\n",
       "    <tr>\n",
       "      <th>1</th>\n",
       "      <td>The animation is some of the worst I've ever s...</td>\n",
       "      <td>Animation</td>\n",
       "      <td>Negative</td>\n",
       "    </tr>\n",
       "    <tr>\n",
       "      <th>2</th>\n",
       "      <td>a fantastical love story filled with charm, wi...</td>\n",
       "      <td>Romance</td>\n",
       "      <td>Positive</td>\n",
       "    </tr>\n",
       "    <tr>\n",
       "      <th>3</th>\n",
       "      <td>Watch it before you die if you want to find ou...</td>\n",
       "      <td>Romance</td>\n",
       "      <td>Positive</td>\n",
       "    </tr>\n",
       "    <tr>\n",
       "      <th>4</th>\n",
       "      <td>The best love story I have seen in a long long...</td>\n",
       "      <td>Romance</td>\n",
       "      <td>Positive</td>\n",
       "    </tr>\n",
       "  </tbody>\n",
       "</table>\n",
       "</div>"
      ],
      "text/plain": [
       "                                              Review AspectCategory  \\\n",
       "0  it is extremely entertaining and hilarious bey...         Comedy   \n",
       "1  The animation is some of the worst I've ever s...      Animation   \n",
       "2  a fantastical love story filled with charm, wi...        Romance   \n",
       "3  Watch it before you die if you want to find ou...        Romance   \n",
       "4  The best love story I have seen in a long long...        Romance   \n",
       "\n",
       "  SentimentPolarity  \n",
       "0          Positive  \n",
       "1          Negative  \n",
       "2          Positive  \n",
       "3          Positive  \n",
       "4          Positive  "
      ]
     },
     "execution_count": 4,
     "metadata": {},
     "output_type": "execute_result"
    }
   ],
   "source": [
    "df.head()"
   ]
  },
  {
   "cell_type": "code",
   "execution_count": 5,
   "id": "9a51c788",
   "metadata": {},
   "outputs": [
    {
     "name": "stdout",
     "output_type": "stream",
     "text": [
      "<class 'pandas.core.frame.DataFrame'>\n",
      "RangeIndex: 2500 entries, 0 to 2499\n",
      "Data columns (total 3 columns):\n",
      " #   Column             Non-Null Count  Dtype \n",
      "---  ------             --------------  ----- \n",
      " 0   Review             2500 non-null   object\n",
      " 1   AspectCategory     2500 non-null   object\n",
      " 2   SentimentPolarity  2500 non-null   object\n",
      "dtypes: object(3)\n",
      "memory usage: 58.7+ KB\n"
     ]
    }
   ],
   "source": [
    "df.info()TfidfVectorizerTfidfVectorizer"
   ]
  },
  {
   "cell_type": "code",
   "execution_count": 6,
   "id": "712f1435",
   "metadata": {},
   "outputs": [
    {
     "name": "stdout",
     "output_type": "stream",
     "text": [
      "['Comedy' 'Animation' 'Romance' 'Action' 'Horror']\n"
     ]
    }
   ],
   "source": [
    "genre = df['AspectCategory'].unique()\n",
    "print(genre)"
   ]
  },
  {
   "cell_type": "code",
   "execution_count": 7,
   "id": "6522b401",
   "metadata": {},
   "outputs": [
    {
     "name": "stdout",
     "output_type": "stream",
     "text": [
      "Counter({'Comedy': 500, 'Animation': 500, 'Romance': 500, 'Action': 500, 'Horror': 500})\n"
     ]
    },
    {
     "data": {
      "image/png": "[encoded data removed]",
      "text/plain": [
       "<Figure size 432x288 with 1 Axes>"
      ]
     },
     "metadata": {
      "needs_background": "light"
     },
     "output_type": "display_data"
    }
   ],
   "source": [
    "print(Counter(df['AspectCategory']))\n",
    "plt.bar(*zip(*Counter(df['AspectCategory']).items()))\n",
    "plt.xlabel(\"AspectCategory\")\n",
    "plt.ylabel(\"Count\")\n",
    "plt.title(\"AspectCategory and their Count\")\n",
    "plt.show()TfidfVectorizer"
   ]
  },
  {
   "cell_type": "markdown",
   "id": "1fb89db5",
   "metadata": {},
   "source": [
    "-----------\n",
    "Data preprocessing"
   ]
  },
  {
   "cell_type": "code",
   "execution_count": 8,
   "id": "a0a3c085",
   "metadata": {},
   "outputs": [],
   "source": [
    "# function for text cleaning\n",
    "def clean_text(text):\n",
    "    # remove backslash-apostrophe\n",
    "    text = re.sub(\"\\'\", \"\", text)\n",
    "    # remove everything alphabets\n",
    "    text = re.sub(\"[^a-zA-Z]\",\" \",text)\n",
    "    # remove whitespaces\n",
    "    text = ' '.join(text.split())\n",
    "    # convert text to lowercase\n",
    "    text = text.lower()\n",
    "    \n",
    "    return text"
   ]
  },
  {
   "cell_type": "code",
   "execution_count": 9,
   "id": "fc1d96f4",
   "metadata": {},
   "outputs": [],
   "source": [
    "df['clean_review'] = df['Review'].apply(lambda x: clean_text(x))"
   ]
  },
  {
   "cell_type": "code",
   "execution_count": 10,
   "id": "a06422a7",
   "metadata": {},
   "outputs": [
    {
     "data": {
      "text/html": [
       "<div>\n",
       "<style scoped>\n",
       "    .dataframe tbody tr th:only-of-type {\n",
       "        vertical-align: middle;\n",
       "    }\n",
       "\n",
       "    .dataframe tbody tr th {\n",
       "        vertical-align: top;\n",
       "    }\n",
       "\n",
       "    .dataframe thead th {\n",
       "        text-align: right;\n",
       "    }\n",
       "</style>\n",
       "<table border=\"1\" class=\"dataframe\">\n",
       "  <thead>\n",
       "    <tr style=\"text-align: right;\">\n",
       "      <th></th>\n",
       "      <th>Review</th>\n",
       "      <th>AspectCategory</th>\n",
       "      <th>SentimentPolarity</th>\n",
       "      <th>clean_review</th>\n",
       "    </tr>\n",
       "  </thead>\n",
       "  <tbody>\n",
       "    <tr>\n",
       "      <th>0</th>\n",
       "      <td>it is extremely entertaining and hilarious bey...</td>\n",
       "      <td>Comedy</td>\n",
       "      <td>Positive</td>\n",
       "      <td>it is extremely entertaining and hilarious beyond</td>\n",
       "    </tr>\n",
       "    <tr>\n",
       "      <th>1</th>\n",
       "      <td>The animation is some of the worst I've ever s...</td>\n",
       "      <td>Animation</td>\n",
       "      <td>Negative</td>\n",
       "      <td>the animation is some of the worst ive ever seen</td>\n",
       "    </tr>\n",
       "    <tr>\n",
       "      <th>2</th>\n",
       "      <td>a fantastical love story filled with charm, wi...</td>\n",
       "      <td>Romance</td>\n",
       "      <td>Positive</td>\n",
       "      <td>a fantastical love story filled with charm wit...</td>\n",
       "    </tr>\n",
       "    <tr>\n",
       "      <th>3</th>\n",
       "      <td>Watch it before you die if you want to find ou...</td>\n",
       "      <td>Romance</td>\n",
       "      <td>Positive</td>\n",
       "      <td>watch it before you die if you want to find ou...</td>\n",
       "    </tr>\n",
       "    <tr>\n",
       "      <th>4</th>\n",
       "      <td>The best love story I have seen in a long long...</td>\n",
       "      <td>Romance</td>\n",
       "      <td>Positive</td>\n",
       "      <td>the best love story i have seen in a long long...</td>\n",
       "    </tr>\n",
       "  </tbody>\n",
       "</table>\n",
       "</div>"
      ],
      "text/plain": [
       "                                              Review AspectCategory  \\\n",
       "0  it is extremely entertaining and hilarious bey...         Comedy   \n",
       "1  The animation is some of the worst I've ever s...      Animation   \n",
       "2  a fantastical love story filled with charm, wi...        Romance   \n",
       "3  Watch it before you die if you want to find ou...        Romance   \n",
       "4  The best love story I have seen in a long long...        Romance   \n",
       "\n",
       "  SentimentPolarity                                       clean_review  \n",
       "0          Positive  it is extremely entertaining and hilarious beyond  \n",
       "1          Negative   the animation is some of the worst ive ever seen  \n",
       "2          Positive  a fantastical love story filled with charm wit...  \n",
       "3          Positive  watch it before you die if you want to find ou...  \n",
       "4          Positive  the best love story i have seen in a long long...  "
      ]
     },
     "execution_count": 10,
     "metadata": {},
     "output_type": "execute_result"
    }
   ],
   "source": [
    "df.head()"
   ]
  },
  {
   "cell_type": "code",
   "execution_count": 11,
   "id": "1f5e37e7",
   "metadata": {},
   "outputs": [
    {
     "data": {
      "text/html": [
       "<div>\n",
       "<style scoped>\n",
       "    .dataframe tbody tr th:only-of-type {\n",
       "        vertical-align: middle;\n",
       "    }\n",
       "\n",
       "    .dataframe tbody tr th {\n",
       "        vertical-align: top;\n",
       "    }\n",
       "\n",
       "    .dataframe thead th {\n",
       "        text-align: right;\n",
       "    }\n",
       "</style>\n",
       "<table border=\"1\" class=\"dataframe\">\n",
       "  <thead>\n",
       "    <tr style=\"text-align: right;\">\n",
       "      <th></th>\n",
       "      <th>Review</th>\n",
       "      <th>clean_review</th>\n",
       "    </tr>\n",
       "  </thead>\n",
       "  <tbody>\n",
       "    <tr>\n",
       "      <th>1152</th>\n",
       "      <td>I couldn't recall one joke or funny line worth...</td>\n",
       "      <td>i couldnt recall one joke or funny line worthy...</td>\n",
       "    </tr>\n",
       "    <tr>\n",
       "      <th>1303</th>\n",
       "      <td>bad love story</td>\n",
       "      <td>bad love story</td>\n",
       "    </tr>\n",
       "    <tr>\n",
       "      <th>974</th>\n",
       "      <td>it seriously should not be marked as a horror ...</td>\n",
       "      <td>it seriously should not be marked as a horror ...</td>\n",
       "    </tr>\n",
       "  </tbody>\n",
       "</table>\n",
       "</div>"
      ],
      "text/plain": [
       "                                                 Review  \\\n",
       "1152  I couldn't recall one joke or funny line worth...   \n",
       "1303                                     bad love story   \n",
       "974   it seriously should not be marked as a horror ...   \n",
       "\n",
       "                                           clean_review  \n",
       "1152  i couldnt recall one joke or funny line worthy...  \n",
       "1303                                     bad love story  \n",
       "974   it seriously should not be marked as a horror ...  "
      ]
     },
     "execution_count": 11,
     "metadata": {},
     "output_type": "execute_result"
    }
   ],
   "source": [
    "df[['Review', 'clean_review']].sample(3)"
   ]
  },
  {
   "cell_type": "code",
   "execution_count": 12,
   "id": "ed9666bf",
   "metadata": {},
   "outputs": [],
   "source": [
    "def freq_words(x, terms = 30):\n",
    "  all_words = ' '.join([text for text in x])\n",
    "  all_words = all_words.split()\n",
    "  \n",
    "  fdist = nltk.FreqDist(all_words)\n",
    "  words_df = pd.DataFrame({'word':list(fdist.keys()), 'count':list(fdist.values())})\n",
    "  \n",
    "  # selecting top 20 most frequent words\n",
    "  d = words_df.nlargest(columns=\"count\", n = terms) \n",
    "  plt.figure(figsize=(12,15))\n",
    "  ax = sns.barplot(data=d, x= \"count\", y = \"word\")\n",
    "  ax.set(ylabel = 'Word')\n",
    "  plt.show()"
   ]
  },
  {
   "cell_type": "code",
   "execution_count": 13,
   "id": "70198f6c",
   "metadata": {},
   "outputs": [
    {
     "data": {
      "image/png": "[encoded data removed]",
      "text/plain": [
       "<Figure size 864x1080 with 1 Axes>"
      ]
     },
     "metadata": {
      "needs_background": "light"
     },
     "output_type": "display_data"
    }
   ],
   "source": [
    "# print 100 most frequent words\n",
    "freq_words(df['clean_review'], 100)"
   ]
  },
  {
   "cell_type": "code",
   "execution_count": 14,
   "id": "62bb8418",
   "metadata": {},
   "outputs": [
    {
     "name": "stderr",
     "output_type": "stream",
     "text": [
      "[nltk_data] Downloading package stopwords to /home/kova/nltk_data...\n",
      "[nltk_data]   Package stopwords is already up-to-date!\n"
     ]
    },
    {
     "data": {
      "text/plain": [
       "True"
      ]
     },
     "execution_count": 14,
     "metadata": {},
     "output_type": "execute_result"
    }
   ],
   "source": [
    "nltk.download('stopwords')"
   ]
  },
  {
   "cell_type": "code",
   "execution_count": 15,
   "id": "6cd26074",
   "metadata": {},
   "outputs": [],
   "source": [
    "from nltk.corpus import stopwords\n",
    "stop_words = set(stopwords.words('english'))\n",
    "\n",
    "# function to remove stopwords\n",
    "def remove_stopwords(text):\n",
    "    no_stopword_text = [w for w in text.split() if not w in stop_words]\n",
    "    return ' '.join(no_stopword_text)\n",
    "  \n",
    "df['clean_review'] = df['clean_review'].apply(lambda x: remove_stopwords(x))"
   ]
  },
  {
   "cell_type": "code",
   "execution_count": 16,
   "id": "2ba08fef",
   "metadata": {},
   "outputs": [
    {
     "data": {
      "text/html": [
       "<div>\n",
       "<style scoped>\n",
       "    .dataframe tbody tr th:only-of-type {\n",
       "        vertical-align: middle;\n",
       "    }\n",
       "\n",
       "    .dataframe tbody tr th {\n",
       "        vertical-align: top;\n",
       "    }\n",
       "\n",
       "    .dataframe thead th {\n",
       "        text-align: right;\n",
       "    }\n",
       "</style>\n",
       "<table border=\"1\" class=\"dataframe\">\n",
       "  <thead>\n",
       "    <tr style=\"text-align: right;\">\n",
       "      <th></th>\n",
       "      <th>Review</th>\n",
       "      <th>clean_review</th>\n",
       "    </tr>\n",
       "  </thead>\n",
       "  <tbody>\n",
       "    <tr>\n",
       "      <th>1316</th>\n",
       "      <td>the stunts are done in service of action scene...</td>\n",
       "      <td>stunts done service action scenes dont work</td>\n",
       "    </tr>\n",
       "    <tr>\n",
       "      <th>1501</th>\n",
       "      <td>One of my all time favorite movies and without...</td>\n",
       "      <td>one time favorite movies without doubt favorit...</td>\n",
       "    </tr>\n",
       "    <tr>\n",
       "      <th>1076</th>\n",
       "      <td>Maybe the worst attempt at horror ever?</td>\n",
       "      <td>maybe worst attempt horror ever</td>\n",
       "    </tr>\n",
       "  </tbody>\n",
       "</table>\n",
       "</div>"
      ],
      "text/plain": [
       "                                                 Review  \\\n",
       "1316  the stunts are done in service of action scene...   \n",
       "1501  One of my all time favorite movies and without...   \n",
       "1076            Maybe the worst attempt at horror ever?   \n",
       "\n",
       "                                           clean_review  \n",
       "1316        stunts done service action scenes dont work  \n",
       "1501  one time favorite movies without doubt favorit...  \n",
       "1076                    maybe worst attempt horror ever  "
      ]
     },
     "execution_count": 16,
     "metadata": {},
     "output_type": "execute_result"
    }
   ],
   "source": [
    "df[['Review', 'clean_review']].sample(3)"
   ]
  },
  {
   "cell_type": "code",
   "execution_count": 17,
   "id": "2b44e972",
   "metadata": {},
   "outputs": [
    {
     "data": {
      "image/png": "[encoded data removed]",
      "text/plain": [
       "<Figure size 864x1080 with 1 Axes>"
      ]
     },
     "metadata": {
      "needs_background": "light"
     },
     "output_type": "display_data"
    }
   ],
   "source": [
    "freq_words(df['clean_review'], 100)"
   ]
  },
  {
   "cell_type": "code",
   "execution_count": 18,
   "id": "e4b6fc32",
   "metadata": {},
   "outputs": [],
   "source": [
    "y = df['AspectCategory'].copy()"
   ]
  },
  {
   "cell_type": "code",
   "execution_count": 19,
   "id": "5a623797",
   "metadata": {},
   "outputs": [
    {
     "data": {
      "text/plain": [
       "0       Comedy\n",
       "1    Animation\n",
       "2      Romance\n",
       "3      Romance\n",
       "4      Romance\n",
       "Name: AspectCategory, dtype: object"
      ]
     },
     "execution_count": 19,
     "metadata": {},
     "output_type": "execute_result"
    }
   ],
   "source": [
    "y.head()"
   ]
  },
  {
   "cell_type": "code",
   "execution_count": 20,
   "id": "09dfb119",
   "metadata": {},
   "outputs": [],
   "source": [
    "tfidf_vectorizer = TfidfVectorizer(max_df=0.8, max_features=10000)"
   ]
  },
  {
   "cell_type": "markdown",
   "id": "43ff0d42",
   "metadata": {},
   "source": [
    "----------------------\n",
    "Training Model"
   ]
  },
  {
   "cell_type": "code",
   "execution_count": 21,
   "id": "d131ff63",
   "metadata": {},
   "outputs": [],
   "source": [
    "# split dataset into training and validation set\n",
    "X_train, X_test, y_train, y_test = train_test_split(df['clean_review'], y, test_size=0.2, shuffle=False)"
   ]
  },
  {
   "cell_type": "code",
   "execution_count": 22,
   "id": "a102aedc",
   "metadata": {},
   "outputs": [],
   "source": [
    "X_train_tfidf = tfidf_vectorizer.fit_transform(X_train)\n",
    "X_test_tfidf = tfidf_vectorizer.transform(X_test)"
   ]
  },
  {
   "cell_type": "code",
   "execution_count": 23,
   "id": "280a97d8",
   "metadata": {},
   "outputs": [],
   "source": [
    "from sklearn.linear_model import LogisticRegression\n",
    "\n",
    "# Binary Relevance\n",
    "from sklearn.multiclass import OneVsRestClassifier\n",
    "\n",
    "# Performance metric\n",
    "from sklearn.metrics import f1_score"
   ]
  },
  {
   "cell_type": "code",
   "execution_count": 24,
   "id": "dd0e7194",
   "metadata": {},
   "outputs": [],
   "source": [
    "lr = LogisticRegression()\n",
    "clf = OneVsRestClassifier(lr)"
   ]
  },
  {
   "cell_type": "code",
   "execution_count": 25,
   "id": "b93d7914",
   "metadata": {},
   "outputs": [
    {
     "data": {
      "text/plain": [
       "OneVsRestClassifier(estimator=LogisticRegression())"
      ]
     },
     "execution_count": 25,
     "metadata": {},
     "output_type": "execute_result"
    }
   ],
   "source": [
    "# fit model on train data\n",
    "clf.fit(X_train_tfidf, y_train)"
   ]
  },
  {
   "cell_type": "code",
   "execution_count": 26,
   "id": "a0f17c74",
   "metadata": {},
   "outputs": [],
   "source": [
    "# make predictions for validation set\n",
    "y_predicted = clf.predict(X_test_tfidf)"
   ]
  },
  {
   "cell_type": "code",
   "execution_count": 27,
   "id": "f84de187",
   "metadata": {},
   "outputs": [
    {
     "data": {
      "text/plain": [
       "'Comedy'"
      ]
     },
     "execution_count": 27,
     "metadata": {},
     "output_type": "execute_result"
    }
   ],
   "source": [
    "y_predicted[2]"
   ]
  },
  {
   "cell_type": "code",
   "execution_count": 28,
   "id": "202a3e52",
   "metadata": {},
   "outputs": [
    {
     "data": {
      "text/plain": [
       "'Comedy'"
      ]
     },
     "execution_count": 28,
     "metadata": {},
     "output_type": "execute_result"
    }
   ],
   "source": [
    "y_test.iloc[2]"
   ]
  },
  {
   "cell_type": "code",
   "execution_count": 29,
   "id": "220cdb20",
   "metadata": {},
   "outputs": [
    {
     "data": {
      "text/plain": [
       "'attempt romantic comedy falls desperately flat'"
      ]
     },
     "execution_count": 29,
     "metadata": {},
     "output_type": "execute_result"
    }
   ],
   "source": [
    "X_test.iloc[499]"
   ]
  },
  {
   "cell_type": "code",
   "execution_count": 30,
   "id": "a3dc4302",
   "metadata": {},
   "outputs": [
    {
     "data": {
      "text/plain": [
       "0.962"
      ]
     },
     "execution_count": 30,
     "metadata": {},
     "output_type": "execute_result"
    }
   ],
   "source": [
    "# evaluate performance\n",
    "f1_score(y_test, y_predicted, average=\"micro\")"
   ]
  },
  {
   "cell_type": "code",
   "execution_count": 31,
   "id": "f10005e9",
   "metadata": {},
   "outputs": [
    {
     "data": {
      "text/plain": [
       "2495                                 poorly framed action\n",
       "2496    real looser like poor comedy wasting time poor...\n",
       "2497                drama romance violence brotherly love\n",
       "2498                     think movie closer comedy horror\n",
       "2499       attempt romantic comedy falls desperately flat\n",
       "Name: clean_review, dtype: object"
      ]
     },
     "execution_count": 31,
     "metadata": {},
     "output_type": "execute_result"
    }
   ],
   "source": [
    "X_test.tail()"
   ]
  },
  {
   "cell_type": "markdown",
   "id": "85318d46",
   "metadata": {},
   "source": [
    "---------------\n",
    "Testing prediction "
   ]
  },
  {
   "cell_type": "code",
   "execution_count": 32,
   "id": "9978b030",
   "metadata": {},
   "outputs": [
    {
     "name": "stdout",
     "output_type": "stream",
     "text": [
      "-----------------------\n",
      "Review : actors shine perfectly cast make hilarious show bring tears eyes laughing hard\n",
      "Actual Genre : Comedy\n",
      "Predicted Genre : Comedy\n",
      "-----------------------\n",
      "-----------------------\n",
      "Review : use hand drawn animation computer animation together make animation look realistic\n",
      "Actual Genre : Animation\n",
      "Predicted Genre : Animation\n",
      "-----------------------\n",
      "-----------------------\n",
      "Review : action boring mess\n",
      "Actual Genre : Action\n",
      "Predicted Genre : Action\n",
      "-----------------------\n",
      "-----------------------\n",
      "Review : never forgotten love\n",
      "Actual Genre : Romance\n",
      "Predicted Genre : Romance\n",
      "-----------------------\n",
      "-----------------------\n",
      "Review : heart comes mouth see horror joker creates\n",
      "Actual Genre : Horror\n",
      "Predicted Genre : Horror\n",
      "-----------------------\n"
     ]
    }
   ],
   "source": [
    "for i in range(5):\n",
    "    k = random.randint(0, 499)\n",
    "    print(\"-----------------------\")\n",
    "    print(\"Review : {}\".format(X_test.iloc[k]))\n",
    "    print(\"Actual Genre : {}\".format(y_test.iloc[k]))\n",
    "    print(\"Predicted Genre : {}\".format(y_predicted[k]))\n",
    "    print(\"-----------------------\")"
   ]
  },
  {
   "cell_type": "markdown",
   "id": "7d3a106d",
   "metadata": {},
   "source": [
    "--------------\n",
    "Manual Testing "
   ]
  },
  {
   "cell_type": "code",
   "execution_count": 33,
   "id": "e12d3d01",
   "metadata": {},
   "outputs": [],
   "source": [
    "def manual_testing(review) : \n",
    "    cleaned_review = clean_text(review)\n",
    "    altered_review = remove_stopwords(cleaned_review)\n",
    "    altered_review = [altered_review]\n",
    "    testing_review = tfidf_vectorizer.transform(altered_review)\n",
    "    predicted = clf.predict(testing_review)\n",
    "    print(\"Tested Review : \", review)\n",
    "    print(\"Predicted Genre : \", predicted)"
   ]
  },
  {
   "cell_type": "code",
   "execution_count": 34,
   "id": "dd4521a4",
   "metadata": {},
   "outputs": [
    {
     "name": "stdout",
     "output_type": "stream",
     "text": [
      "Tested Review :  I think the actors did a great job. Can’t wait for the sequels and the books to come to the U.S. This is a love story. Is it one we’re used to no and honestly I’m happy for that the love stories now have already been told one way or another I welcome these movies gives a new twist between 365 Days and Fifty Shades of Grey they both bring new twist and great to see something new\n",
      "Predicted Genre :  ['Romance']\n"
     ]
    }
   ],
   "source": [
    "manual_review = \"I think the actors did a great job. Can’t wait for the sequels and the books to come to the U.S. This is a love story. Is it one we’re used to no and honestly I’m happy for that the love stories now have already been told one way or another I welcome these movies gives a new twist between 365 Days and Fifty Shades of Grey they both bring new twist and great to see something new\"\n",
    "manual_testing(manual_review)"
   ]
  },
  {
   "cell_type": "code",
   "execution_count": null,
   "id": "04f9a673",
   "metadata": {},
   "outputs": [],
   "source": []
  }
 ],
 "metadata": {
  "kernelspec": {
   "display_name": "Python 3 (ipykernel)",
   "language": "python",
   "name": "python3"
  },
  "language_info": {
   "codemirror_mode": {
    "name": "ipython",
    "version": 3
   },
   "file_extension": ".py",
   "mimetype": "text/x-python",
   "name": "python",
   "nbconvert_exporter": "python",
   "pygments_lexer": "ipython3",
   "version": "3.8.5"
  }
 },
 "nbformat": 4,
 "nbformat_minor": 5
}
